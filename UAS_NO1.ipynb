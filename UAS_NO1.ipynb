{
  "nbformat": 4,
  "nbformat_minor": 0,
  "metadata": {
    "colab": {
      "name": "UAS_NO1",
      "provenance": [],
      "mount_file_id": "1iq_opEnQeICAVy4c40yxD19U959QAiAo",
      "authorship_tag": "ABX9TyPgU6ynjZHXmTGHPXrNMeBA",
      "include_colab_link": true
    },
    "kernelspec": {
      "name": "python3",
      "display_name": "Python 3"
    }
  },
  "cells": [
    {
      "cell_type": "markdown",
      "metadata": {
        "id": "view-in-github",
        "colab_type": "text"
      },
      "source": [
        "<a href=\"https://colab.research.google.com/github/SuryadinataUCIC/UTS_NO1/blob/main/UAS_NO1.ipynb\" target=\"_parent\"><img src=\"https://colab.research.google.com/assets/colab-badge.svg\" alt=\"Open In Colab\"/></a>"
      ]
    },
    {
      "cell_type": "code",
      "metadata": {
        "colab": {
          "base_uri": "https://localhost:8080/",
          "height": 419
        },
        "id": "1OMpT4YNc_CP",
        "outputId": "343262d4-f35e-43b0-b91f-d26a4d1fc60b"
      },
      "source": [
        "import pandas as pd \n",
        "import numpy as np\n",
        "path=\"/content/drive/My Drive/data1/majors.csv\"\n",
        "dataset=pd.read_csv(path)\n",
        "dataset"
      ],
      "execution_count": 1,
      "outputs": [
        {
          "output_type": "execute_result",
          "data": {
            "text/html": [
              "<div>\n",
              "<style scoped>\n",
              "    .dataframe tbody tr th:only-of-type {\n",
              "        vertical-align: middle;\n",
              "    }\n",
              "\n",
              "    .dataframe tbody tr th {\n",
              "        vertical-align: top;\n",
              "    }\n",
              "\n",
              "    .dataframe thead th {\n",
              "        text-align: right;\n",
              "    }\n",
              "</style>\n",
              "<table border=\"1\" class=\"dataframe\">\n",
              "  <thead>\n",
              "    <tr style=\"text-align: right;\">\n",
              "      <th></th>\n",
              "      <th>Unnamed: 0</th>\n",
              "      <th>id_major</th>\n",
              "      <th>id_university</th>\n",
              "      <th>type</th>\n",
              "      <th>major_name</th>\n",
              "      <th>capacity</th>\n",
              "    </tr>\n",
              "  </thead>\n",
              "  <tbody>\n",
              "    <tr>\n",
              "      <th>0</th>\n",
              "      <td>0</td>\n",
              "      <td>1111014</td>\n",
              "      <td>111</td>\n",
              "      <td>science</td>\n",
              "      <td>PENDIDIKAN DOKTER HEWAN</td>\n",
              "      <td>88</td>\n",
              "    </tr>\n",
              "    <tr>\n",
              "      <th>1</th>\n",
              "      <td>1</td>\n",
              "      <td>1111022</td>\n",
              "      <td>111</td>\n",
              "      <td>science</td>\n",
              "      <td>TEKNIK SIPIL</td>\n",
              "      <td>64</td>\n",
              "    </tr>\n",
              "    <tr>\n",
              "      <th>2</th>\n",
              "      <td>2</td>\n",
              "      <td>1111037</td>\n",
              "      <td>111</td>\n",
              "      <td>science</td>\n",
              "      <td>TEKNIK MESIN</td>\n",
              "      <td>48</td>\n",
              "    </tr>\n",
              "    <tr>\n",
              "      <th>3</th>\n",
              "      <td>3</td>\n",
              "      <td>1111045</td>\n",
              "      <td>111</td>\n",
              "      <td>science</td>\n",
              "      <td>TEKNIK KIMIA</td>\n",
              "      <td>48</td>\n",
              "    </tr>\n",
              "    <tr>\n",
              "      <th>4</th>\n",
              "      <td>4</td>\n",
              "      <td>1111053</td>\n",
              "      <td>111</td>\n",
              "      <td>science</td>\n",
              "      <td>ARSITEKTUR</td>\n",
              "      <td>48</td>\n",
              "    </tr>\n",
              "    <tr>\n",
              "      <th>...</th>\n",
              "      <td>...</td>\n",
              "      <td>...</td>\n",
              "      <td>...</td>\n",
              "      <td>...</td>\n",
              "      <td>...</td>\n",
              "      <td>...</td>\n",
              "    </tr>\n",
              "    <tr>\n",
              "      <th>3162</th>\n",
              "      <td>3162</td>\n",
              "      <td>9212011</td>\n",
              "      <td>921</td>\n",
              "      <td>humanities</td>\n",
              "      <td>EKONOMI PEMBANGUNAN</td>\n",
              "      <td>32</td>\n",
              "    </tr>\n",
              "    <tr>\n",
              "      <th>3163</th>\n",
              "      <td>3163</td>\n",
              "      <td>9212042</td>\n",
              "      <td>921</td>\n",
              "      <td>humanities</td>\n",
              "      <td>MANAJEMEN</td>\n",
              "      <td>32</td>\n",
              "    </tr>\n",
              "    <tr>\n",
              "      <th>3164</th>\n",
              "      <td>3164</td>\n",
              "      <td>9212057</td>\n",
              "      <td>921</td>\n",
              "      <td>humanities</td>\n",
              "      <td>AKUNTANSI</td>\n",
              "      <td>32</td>\n",
              "    </tr>\n",
              "    <tr>\n",
              "      <th>3165</th>\n",
              "      <td>3165</td>\n",
              "      <td>9212065</td>\n",
              "      <td>921</td>\n",
              "      <td>humanities</td>\n",
              "      <td>PENDIDIKAN BAHASA INDONESIA</td>\n",
              "      <td>16</td>\n",
              "    </tr>\n",
              "    <tr>\n",
              "      <th>3166</th>\n",
              "      <td>3166</td>\n",
              "      <td>9212073</td>\n",
              "      <td>921</td>\n",
              "      <td>humanities</td>\n",
              "      <td>PENDIDIKAN BAHASA INGGRIS</td>\n",
              "      <td>16</td>\n",
              "    </tr>\n",
              "  </tbody>\n",
              "</table>\n",
              "<p>3167 rows × 6 columns</p>\n",
              "</div>"
            ],
            "text/plain": [
              "      Unnamed: 0  id_major  ...                   major_name capacity\n",
              "0              0   1111014  ...      PENDIDIKAN DOKTER HEWAN       88\n",
              "1              1   1111022  ...                 TEKNIK SIPIL       64\n",
              "2              2   1111037  ...                 TEKNIK MESIN       48\n",
              "3              3   1111045  ...                 TEKNIK KIMIA       48\n",
              "4              4   1111053  ...                   ARSITEKTUR       48\n",
              "...          ...       ...  ...                          ...      ...\n",
              "3162        3162   9212011  ...          EKONOMI PEMBANGUNAN       32\n",
              "3163        3163   9212042  ...                    MANAJEMEN       32\n",
              "3164        3164   9212057  ...                    AKUNTANSI       32\n",
              "3165        3165   9212065  ...  PENDIDIKAN BAHASA INDONESIA       16\n",
              "3166        3166   9212073  ...    PENDIDIKAN BAHASA INGGRIS       16\n",
              "\n",
              "[3167 rows x 6 columns]"
            ]
          },
          "metadata": {
            "tags": []
          },
          "execution_count": 1
        }
      ]
    },
    {
      "cell_type": "code",
      "metadata": {
        "colab": {
          "base_uri": "https://localhost:8080/",
          "height": 204
        },
        "id": "apYkKT_vdLOd",
        "outputId": "acceec6c-f8cf-46aa-e391-556dccce3f09"
      },
      "source": [
        "dataset.head()"
      ],
      "execution_count": 2,
      "outputs": [
        {
          "output_type": "execute_result",
          "data": {
            "text/html": [
              "<div>\n",
              "<style scoped>\n",
              "    .dataframe tbody tr th:only-of-type {\n",
              "        vertical-align: middle;\n",
              "    }\n",
              "\n",
              "    .dataframe tbody tr th {\n",
              "        vertical-align: top;\n",
              "    }\n",
              "\n",
              "    .dataframe thead th {\n",
              "        text-align: right;\n",
              "    }\n",
              "</style>\n",
              "<table border=\"1\" class=\"dataframe\">\n",
              "  <thead>\n",
              "    <tr style=\"text-align: right;\">\n",
              "      <th></th>\n",
              "      <th>Unnamed: 0</th>\n",
              "      <th>id_major</th>\n",
              "      <th>id_university</th>\n",
              "      <th>type</th>\n",
              "      <th>major_name</th>\n",
              "      <th>capacity</th>\n",
              "    </tr>\n",
              "  </thead>\n",
              "  <tbody>\n",
              "    <tr>\n",
              "      <th>0</th>\n",
              "      <td>0</td>\n",
              "      <td>1111014</td>\n",
              "      <td>111</td>\n",
              "      <td>science</td>\n",
              "      <td>PENDIDIKAN DOKTER HEWAN</td>\n",
              "      <td>88</td>\n",
              "    </tr>\n",
              "    <tr>\n",
              "      <th>1</th>\n",
              "      <td>1</td>\n",
              "      <td>1111022</td>\n",
              "      <td>111</td>\n",
              "      <td>science</td>\n",
              "      <td>TEKNIK SIPIL</td>\n",
              "      <td>64</td>\n",
              "    </tr>\n",
              "    <tr>\n",
              "      <th>2</th>\n",
              "      <td>2</td>\n",
              "      <td>1111037</td>\n",
              "      <td>111</td>\n",
              "      <td>science</td>\n",
              "      <td>TEKNIK MESIN</td>\n",
              "      <td>48</td>\n",
              "    </tr>\n",
              "    <tr>\n",
              "      <th>3</th>\n",
              "      <td>3</td>\n",
              "      <td>1111045</td>\n",
              "      <td>111</td>\n",
              "      <td>science</td>\n",
              "      <td>TEKNIK KIMIA</td>\n",
              "      <td>48</td>\n",
              "    </tr>\n",
              "    <tr>\n",
              "      <th>4</th>\n",
              "      <td>4</td>\n",
              "      <td>1111053</td>\n",
              "      <td>111</td>\n",
              "      <td>science</td>\n",
              "      <td>ARSITEKTUR</td>\n",
              "      <td>48</td>\n",
              "    </tr>\n",
              "  </tbody>\n",
              "</table>\n",
              "</div>"
            ],
            "text/plain": [
              "   Unnamed: 0  id_major  ...               major_name capacity\n",
              "0           0   1111014  ...  PENDIDIKAN DOKTER HEWAN       88\n",
              "1           1   1111022  ...             TEKNIK SIPIL       64\n",
              "2           2   1111037  ...             TEKNIK MESIN       48\n",
              "3           3   1111045  ...             TEKNIK KIMIA       48\n",
              "4           4   1111053  ...               ARSITEKTUR       48\n",
              "\n",
              "[5 rows x 6 columns]"
            ]
          },
          "metadata": {
            "tags": []
          },
          "execution_count": 2
        }
      ]
    },
    {
      "cell_type": "code",
      "metadata": {
        "id": "5B46OQ_fdQ4M"
      },
      "source": [
        "import matplotlib.pyplot as plt"
      ],
      "execution_count": 3,
      "outputs": []
    },
    {
      "cell_type": "code",
      "metadata": {
        "colab": {
          "base_uri": "https://localhost:8080/",
          "height": 282
        },
        "id": "RHg87-15dUjN",
        "outputId": "dcb78dde-e6dc-4955-fadf-f8634666e2c3"
      },
      "source": [
        "plt.scatter(dataset['major_name'],dataset['capacity'])"
      ],
      "execution_count": 4,
      "outputs": [
        {
          "output_type": "execute_result",
          "data": {
            "text/plain": [
              "<matplotlib.collections.PathCollection at 0x7f54ed9a5160>"
            ]
          },
          "metadata": {
            "tags": []
          },
          "execution_count": 4
        },
        {
          "output_type": "display_data",
          "data": {
            "image/png": "[encoded data removed]",
            "text/plain": [
              "<Figure size 432x288 with 1 Axes>"
            ]
          },
          "metadata": {
            "tags": [],
            "needs_background": "light"
          }
        }
      ]
    },
    {
      "cell_type": "code",
      "metadata": {
        "colab": {
          "base_uri": "https://localhost:8080/",
          "height": 282
        },
        "id": "ncb3I62adj96",
        "outputId": "bf30c6d0-1f2a-4e06-a9ba-27ddbcfbc030"
      },
      "source": [
        "plt.scatter(dataset['id_university'],dataset['capacity'])"
      ],
      "execution_count": 5,
      "outputs": [
        {
          "output_type": "execute_result",
          "data": {
            "text/plain": [
              "<matplotlib.collections.PathCollection at 0x7f54ed27e278>"
            ]
          },
          "metadata": {
            "tags": []
          },
          "execution_count": 5
        },
        {
          "output_type": "display_data",
          "data": {
            "image/png": "[encoded data removed]",
            "text/plain": [
              "<Figure size 432x288 with 1 Axes>"
            ]
          },
          "metadata": {
            "tags": [],
            "needs_background": "light"
          }
        }
      ]
    },
    {
      "cell_type": "code",
      "metadata": {
        "id": "XYKKIxPUd5iK"
      },
      "source": [
        "x=dataset[['major_name','id_university']]\n",
        "y=dataset['capacity']"
      ],
      "execution_count": 6,
      "outputs": []
    },
    {
      "cell_type": "code",
      "metadata": {
        "colab": {
          "base_uri": "https://localhost:8080/",
          "height": 419
        },
        "id": "rVtOAXneeHb6",
        "outputId": "bfb6e10a-5dd3-49d5-97b6-ad5dfda4dac1"
      },
      "source": [
        "x"
      ],
      "execution_count": 7,
      "outputs": [
        {
          "output_type": "execute_result",
          "data": {
            "text/html": [
              "<div>\n",
              "<style scoped>\n",
              "    .dataframe tbody tr th:only-of-type {\n",
              "        vertical-align: middle;\n",
              "    }\n",
              "\n",
              "    .dataframe tbody tr th {\n",
              "        vertical-align: top;\n",
              "    }\n",
              "\n",
              "    .dataframe thead th {\n",
              "        text-align: right;\n",
              "    }\n",
              "</style>\n",
              "<table border=\"1\" class=\"dataframe\">\n",
              "  <thead>\n",
              "    <tr style=\"text-align: right;\">\n",
              "      <th></th>\n",
              "      <th>major_name</th>\n",
              "      <th>id_university</th>\n",
              "    </tr>\n",
              "  </thead>\n",
              "  <tbody>\n",
              "    <tr>\n",
              "      <th>0</th>\n",
              "      <td>PENDIDIKAN DOKTER HEWAN</td>\n",
              "      <td>111</td>\n",
              "    </tr>\n",
              "    <tr>\n",
              "      <th>1</th>\n",
              "      <td>TEKNIK SIPIL</td>\n",
              "      <td>111</td>\n",
              "    </tr>\n",
              "    <tr>\n",
              "      <th>2</th>\n",
              "      <td>TEKNIK MESIN</td>\n",
              "      <td>111</td>\n",
              "    </tr>\n",
              "    <tr>\n",
              "      <th>3</th>\n",
              "      <td>TEKNIK KIMIA</td>\n",
              "      <td>111</td>\n",
              "    </tr>\n",
              "    <tr>\n",
              "      <th>4</th>\n",
              "      <td>ARSITEKTUR</td>\n",
              "      <td>111</td>\n",
              "    </tr>\n",
              "    <tr>\n",
              "      <th>...</th>\n",
              "      <td>...</td>\n",
              "      <td>...</td>\n",
              "    </tr>\n",
              "    <tr>\n",
              "      <th>3162</th>\n",
              "      <td>EKONOMI PEMBANGUNAN</td>\n",
              "      <td>921</td>\n",
              "    </tr>\n",
              "    <tr>\n",
              "      <th>3163</th>\n",
              "      <td>MANAJEMEN</td>\n",
              "      <td>921</td>\n",
              "    </tr>\n",
              "    <tr>\n",
              "      <th>3164</th>\n",
              "      <td>AKUNTANSI</td>\n",
              "      <td>921</td>\n",
              "    </tr>\n",
              "    <tr>\n",
              "      <th>3165</th>\n",
              "      <td>PENDIDIKAN BAHASA INDONESIA</td>\n",
              "      <td>921</td>\n",
              "    </tr>\n",
              "    <tr>\n",
              "      <th>3166</th>\n",
              "      <td>PENDIDIKAN BAHASA INGGRIS</td>\n",
              "      <td>921</td>\n",
              "    </tr>\n",
              "  </tbody>\n",
              "</table>\n",
              "<p>3167 rows × 2 columns</p>\n",
              "</div>"
            ],
            "text/plain": [
              "                       major_name  id_university\n",
              "0         PENDIDIKAN DOKTER HEWAN            111\n",
              "1                    TEKNIK SIPIL            111\n",
              "2                    TEKNIK MESIN            111\n",
              "3                    TEKNIK KIMIA            111\n",
              "4                      ARSITEKTUR            111\n",
              "...                           ...            ...\n",
              "3162          EKONOMI PEMBANGUNAN            921\n",
              "3163                    MANAJEMEN            921\n",
              "3164                    AKUNTANSI            921\n",
              "3165  PENDIDIKAN BAHASA INDONESIA            921\n",
              "3166    PENDIDIKAN BAHASA INGGRIS            921\n",
              "\n",
              "[3167 rows x 2 columns]"
            ]
          },
          "metadata": {
            "tags": []
          },
          "execution_count": 7
        }
      ]
    },
    {
      "cell_type": "code",
      "metadata": {
        "colab": {
          "base_uri": "https://localhost:8080/"
        },
        "id": "7GUw1NdDeWsp",
        "outputId": "3fc718c3-f9f1-44a6-ec58-f082f5a1b904"
      },
      "source": [
        "\n",
        "y"
      ],
      "execution_count": 8,
      "outputs": [
        {
          "output_type": "execute_result",
          "data": {
            "text/plain": [
              "0       88\n",
              "1       64\n",
              "2       48\n",
              "3       48\n",
              "4       48\n",
              "        ..\n",
              "3162    32\n",
              "3163    32\n",
              "3164    32\n",
              "3165    16\n",
              "3166    16\n",
              "Name: capacity, Length: 3167, dtype: int64"
            ]
          },
          "metadata": {
            "tags": []
          },
          "execution_count": 8
        }
      ]
    },
    {
      "cell_type": "code",
      "metadata": {
        "id": "zqRpKm2NebRg"
      },
      "source": [
        "from sklearn.model_selection import train_test_split"
      ],
      "execution_count": 9,
      "outputs": []
    },
    {
      "cell_type": "code",
      "metadata": {
        "id": "N-wN9vW7eet4"
      },
      "source": [
        "x_train,x_test,y_train,y_test=train_test_split(x,y,test_size=0.3)"
      ],
      "execution_count": 10,
      "outputs": []
    },
    {
      "cell_type": "code",
      "metadata": {
        "colab": {
          "base_uri": "https://localhost:8080/"
        },
        "id": "pQHdFtARejOo",
        "outputId": "89d18258-1a0c-49da-bddb-4fbf9be757a4"
      },
      "source": [
        "len(x_train)"
      ],
      "execution_count": 11,
      "outputs": [
        {
          "output_type": "execute_result",
          "data": {
            "text/plain": [
              "2216"
            ]
          },
          "metadata": {
            "tags": []
          },
          "execution_count": 11
        }
      ]
    },
    {
      "cell_type": "code",
      "metadata": {
        "colab": {
          "base_uri": "https://localhost:8080/"
        },
        "id": "38jhXZP1ek34",
        "outputId": "ae10fc6b-d046-49b8-8cc6-b0cd14d4f72f"
      },
      "source": [
        "len(x_test)"
      ],
      "execution_count": 12,
      "outputs": [
        {
          "output_type": "execute_result",
          "data": {
            "text/plain": [
              "951"
            ]
          },
          "metadata": {
            "tags": []
          },
          "execution_count": 12
        }
      ]
    },
    {
      "cell_type": "code",
      "metadata": {
        "colab": {
          "base_uri": "https://localhost:8080/",
          "height": 419
        },
        "id": "bq_4J-FperO_",
        "outputId": "dce3df09-b99b-42d4-87b9-75a6a00a61c6"
      },
      "source": [
        "x_train"
      ],
      "execution_count": 13,
      "outputs": [
        {
          "output_type": "execute_result",
          "data": {
            "text/html": [
              "<div>\n",
              "<style scoped>\n",
              "    .dataframe tbody tr th:only-of-type {\n",
              "        vertical-align: middle;\n",
              "    }\n",
              "\n",
              "    .dataframe tbody tr th {\n",
              "        vertical-align: top;\n",
              "    }\n",
              "\n",
              "    .dataframe thead th {\n",
              "        text-align: right;\n",
              "    }\n",
              "</style>\n",
              "<table border=\"1\" class=\"dataframe\">\n",
              "  <thead>\n",
              "    <tr style=\"text-align: right;\">\n",
              "      <th></th>\n",
              "      <th>major_name</th>\n",
              "      <th>id_university</th>\n",
              "    </tr>\n",
              "  </thead>\n",
              "  <tbody>\n",
              "    <tr>\n",
              "      <th>706</th>\n",
              "      <td>STATISTIKA</td>\n",
              "      <td>353</td>\n",
              "    </tr>\n",
              "    <tr>\n",
              "      <th>125</th>\n",
              "      <td>ILMU KEOLAHRAGAAN</td>\n",
              "      <td>122</td>\n",
              "    </tr>\n",
              "    <tr>\n",
              "      <th>1758</th>\n",
              "      <td>PENDIDIKAN GURU SEKOLAH DASAR</td>\n",
              "      <td>114</td>\n",
              "    </tr>\n",
              "    <tr>\n",
              "      <th>2138</th>\n",
              "      <td>EKONOMI SYARIAH</td>\n",
              "      <td>324</td>\n",
              "    </tr>\n",
              "    <tr>\n",
              "      <th>3153</th>\n",
              "      <td>PENDIDIKAN GURU SEKOLAH DASAR</td>\n",
              "      <td>912</td>\n",
              "    </tr>\n",
              "    <tr>\n",
              "      <th>...</th>\n",
              "      <td>...</td>\n",
              "      <td>...</td>\n",
              "    </tr>\n",
              "    <tr>\n",
              "      <th>2764</th>\n",
              "      <td>PEND. PANCASILA DAN KEWARGANEGARAAN</td>\n",
              "      <td>541</td>\n",
              "    </tr>\n",
              "    <tr>\n",
              "      <th>2268</th>\n",
              "      <td>SOSIOLOGI</td>\n",
              "      <td>351</td>\n",
              "    </tr>\n",
              "    <tr>\n",
              "      <th>504</th>\n",
              "      <td>INFORMATIKA</td>\n",
              "      <td>324</td>\n",
              "    </tr>\n",
              "    <tr>\n",
              "      <th>2508</th>\n",
              "      <td>TELEVISI &amp; FILM</td>\n",
              "      <td>371</td>\n",
              "    </tr>\n",
              "    <tr>\n",
              "      <th>983</th>\n",
              "      <td>PENDIDIKAN DOKTER</td>\n",
              "      <td>381</td>\n",
              "    </tr>\n",
              "  </tbody>\n",
              "</table>\n",
              "<p>2216 rows × 2 columns</p>\n",
              "</div>"
            ],
            "text/plain": [
              "                               major_name  id_university\n",
              "706                            STATISTIKA            353\n",
              "125                     ILMU KEOLAHRAGAAN            122\n",
              "1758        PENDIDIKAN GURU SEKOLAH DASAR            114\n",
              "2138                      EKONOMI SYARIAH            324\n",
              "3153        PENDIDIKAN GURU SEKOLAH DASAR            912\n",
              "...                                   ...            ...\n",
              "2764  PEND. PANCASILA DAN KEWARGANEGARAAN            541\n",
              "2268                            SOSIOLOGI            351\n",
              "504                           INFORMATIKA            324\n",
              "2508                      TELEVISI & FILM            371\n",
              "983                     PENDIDIKAN DOKTER            381\n",
              "\n",
              "[2216 rows x 2 columns]"
            ]
          },
          "metadata": {
            "tags": []
          },
          "execution_count": 13
        }
      ]
    },
    {
      "cell_type": "code",
      "metadata": {
        "colab": {
          "base_uri": "https://localhost:8080/",
          "height": 419
        },
        "id": "vHi3J3aaevho",
        "outputId": "8bf50d94-611f-4bca-f966-0f3abbabd1dc"
      },
      "source": [
        "x_test"
      ],
      "execution_count": 14,
      "outputs": [
        {
          "output_type": "execute_result",
          "data": {
            "text/html": [
              "<div>\n",
              "<style scoped>\n",
              "    .dataframe tbody tr th:only-of-type {\n",
              "        vertical-align: middle;\n",
              "    }\n",
              "\n",
              "    .dataframe tbody tr th {\n",
              "        vertical-align: top;\n",
              "    }\n",
              "\n",
              "    .dataframe thead th {\n",
              "        text-align: right;\n",
              "    }\n",
              "</style>\n",
              "<table border=\"1\" class=\"dataframe\">\n",
              "  <thead>\n",
              "    <tr style=\"text-align: right;\">\n",
              "      <th></th>\n",
              "      <th>major_name</th>\n",
              "      <th>id_university</th>\n",
              "    </tr>\n",
              "  </thead>\n",
              "  <tbody>\n",
              "    <tr>\n",
              "      <th>2728</th>\n",
              "      <td>MANAJEMEN PENDIDIKAN</td>\n",
              "      <td>521</td>\n",
              "    </tr>\n",
              "    <tr>\n",
              "      <th>820</th>\n",
              "      <td>TEKNOLOGI INFORMASI</td>\n",
              "      <td>361</td>\n",
              "    </tr>\n",
              "    <tr>\n",
              "      <th>1141</th>\n",
              "      <td>BIOLOGI</td>\n",
              "      <td>521</td>\n",
              "    </tr>\n",
              "    <tr>\n",
              "      <th>817</th>\n",
              "      <td>TEKNOLOGI INDUSTRI PERTANIAN</td>\n",
              "      <td>361</td>\n",
              "    </tr>\n",
              "    <tr>\n",
              "      <th>1837</th>\n",
              "      <td>ILMU ADMINISTRASI NIAGA</td>\n",
              "      <td>131</td>\n",
              "    </tr>\n",
              "    <tr>\n",
              "      <th>...</th>\n",
              "      <td>...</td>\n",
              "      <td>...</td>\n",
              "    </tr>\n",
              "    <tr>\n",
              "      <th>1627</th>\n",
              "      <td>TEKNIK PERMINYAKAN</td>\n",
              "      <td>811</td>\n",
              "    </tr>\n",
              "    <tr>\n",
              "      <th>2751</th>\n",
              "      <td>PENDIDIKAN SENDRATASIK</td>\n",
              "      <td>531</td>\n",
              "    </tr>\n",
              "    <tr>\n",
              "      <th>1695</th>\n",
              "      <td>PETERNAKAN</td>\n",
              "      <td>921</td>\n",
              "    </tr>\n",
              "    <tr>\n",
              "      <th>507</th>\n",
              "      <td>KEPERAWATAN</td>\n",
              "      <td>324</td>\n",
              "    </tr>\n",
              "    <tr>\n",
              "      <th>2454</th>\n",
              "      <td>PENDIDIKAN SENI MUSIK</td>\n",
              "      <td>362</td>\n",
              "    </tr>\n",
              "  </tbody>\n",
              "</table>\n",
              "<p>951 rows × 2 columns</p>\n",
              "</div>"
            ],
            "text/plain": [
              "                        major_name  id_university\n",
              "2728          MANAJEMEN PENDIDIKAN            521\n",
              "820            TEKNOLOGI INFORMASI            361\n",
              "1141                       BIOLOGI            521\n",
              "817   TEKNOLOGI INDUSTRI PERTANIAN            361\n",
              "1837       ILMU ADMINISTRASI NIAGA            131\n",
              "...                            ...            ...\n",
              "1627            TEKNIK PERMINYAKAN            811\n",
              "2751        PENDIDIKAN SENDRATASIK            531\n",
              "1695                    PETERNAKAN            921\n",
              "507                    KEPERAWATAN            324\n",
              "2454         PENDIDIKAN SENI MUSIK            362\n",
              "\n",
              "[951 rows x 2 columns]"
            ]
          },
          "metadata": {
            "tags": []
          },
          "execution_count": 14
        }
      ]
    },
    {
      "cell_type": "code",
      "metadata": {
        "colab": {
          "base_uri": "https://localhost:8080/"
        },
        "id": "NgdaIWaYeztw",
        "outputId": "1ff643eb-7c8b-4939-ae3f-89877b840798"
      },
      "source": [
        "y_test"
      ],
      "execution_count": 15,
      "outputs": [
        {
          "output_type": "execute_result",
          "data": {
            "text/plain": [
              "2728    20\n",
              "820     45\n",
              "1141    30\n",
              "817     50\n",
              "1837    48\n",
              "        ..\n",
              "1627     8\n",
              "2751    18\n",
              "1695    24\n",
              "507     40\n",
              "2454    32\n",
              "Name: capacity, Length: 951, dtype: int64"
            ]
          },
          "metadata": {
            "tags": []
          },
          "execution_count": 15
        }
      ]
    },
    {
      "cell_type": "code",
      "metadata": {
        "colab": {
          "base_uri": "https://localhost:8080/"
        },
        "id": "Inl_us3Ye4Lo",
        "outputId": "3b07a34a-b4ec-41b6-db2d-69f822454e30"
      },
      "source": [
        "y_train"
      ],
      "execution_count": 16,
      "outputs": [
        {
          "output_type": "execute_result",
          "data": {
            "text/plain": [
              "706      50\n",
              "125      45\n",
              "1758     48\n",
              "2138     40\n",
              "3153    105\n",
              "       ... \n",
              "2764     32\n",
              "2268     60\n",
              "504      75\n",
              "2508     50\n",
              "983     100\n",
              "Name: capacity, Length: 2216, dtype: int64"
            ]
          },
          "metadata": {
            "tags": []
          },
          "execution_count": 16
        }
      ]
    },
    {
      "cell_type": "code",
      "metadata": {
        "id": "FdREelBOe7UP"
      },
      "source": [
        "x_train,x_test,y_train,y_test=train_test_split(x,y,test_size=0.2)"
      ],
      "execution_count": 17,
      "outputs": []
    },
    {
      "cell_type": "code",
      "metadata": {
        "colab": {
          "base_uri": "https://localhost:8080/"
        },
        "id": "uD0n8NTOfBc3",
        "outputId": "bdd81012-8179-4253-a8bc-c47049d41059"
      },
      "source": [
        "len(x_train)"
      ],
      "execution_count": 18,
      "outputs": [
        {
          "output_type": "execute_result",
          "data": {
            "text/plain": [
              "2533"
            ]
          },
          "metadata": {
            "tags": []
          },
          "execution_count": 18
        }
      ]
    },
    {
      "cell_type": "code",
      "metadata": {
        "colab": {
          "base_uri": "https://localhost:8080/"
        },
        "id": "AVHM-zhnfF03",
        "outputId": "a571e1ed-ee07-42de-e214-3adb3e77a857"
      },
      "source": [
        "len(x_test)"
      ],
      "execution_count": 19,
      "outputs": [
        {
          "output_type": "execute_result",
          "data": {
            "text/plain": [
              "634"
            ]
          },
          "metadata": {
            "tags": []
          },
          "execution_count": 19
        }
      ]
    },
    {
      "cell_type": "code",
      "metadata": {
        "colab": {
          "base_uri": "https://localhost:8080/",
          "height": 419
        },
        "id": "n556XlLwfMsf",
        "outputId": "e611b942-3b6a-480b-fad2-98063c3abb85"
      },
      "source": [
        "x_train"
      ],
      "execution_count": 20,
      "outputs": [
        {
          "output_type": "execute_result",
          "data": {
            "text/html": [
              "<div>\n",
              "<style scoped>\n",
              "    .dataframe tbody tr th:only-of-type {\n",
              "        vertical-align: middle;\n",
              "    }\n",
              "\n",
              "    .dataframe tbody tr th {\n",
              "        vertical-align: top;\n",
              "    }\n",
              "\n",
              "    .dataframe thead th {\n",
              "        text-align: right;\n",
              "    }\n",
              "</style>\n",
              "<table border=\"1\" class=\"dataframe\">\n",
              "  <thead>\n",
              "    <tr style=\"text-align: right;\">\n",
              "      <th></th>\n",
              "      <th>major_name</th>\n",
              "      <th>id_university</th>\n",
              "    </tr>\n",
              "  </thead>\n",
              "  <tbody>\n",
              "    <tr>\n",
              "      <th>2413</th>\n",
              "      <td>SASTRA PRANCIS</td>\n",
              "      <td>361</td>\n",
              "    </tr>\n",
              "    <tr>\n",
              "      <th>2290</th>\n",
              "      <td>ILMU ADMINISTRASI NEGARA</td>\n",
              "      <td>353</td>\n",
              "    </tr>\n",
              "    <tr>\n",
              "      <th>257</th>\n",
              "      <td>TEKNIK PERTAMBANGAN</td>\n",
              "      <td>151</td>\n",
              "    </tr>\n",
              "    <tr>\n",
              "      <th>2362</th>\n",
              "      <td>PENDIDIKAN TATA BUSANA</td>\n",
              "      <td>356</td>\n",
              "    </tr>\n",
              "    <tr>\n",
              "      <th>2494</th>\n",
              "      <td>ILMU KESEJAHTERAAN SOSIAL</td>\n",
              "      <td>371</td>\n",
              "    </tr>\n",
              "    <tr>\n",
              "      <th>...</th>\n",
              "      <td>...</td>\n",
              "      <td>...</td>\n",
              "    </tr>\n",
              "    <tr>\n",
              "      <th>1334</th>\n",
              "      <td>PEND. MATEMATIKA</td>\n",
              "      <td>632</td>\n",
              "    </tr>\n",
              "    <tr>\n",
              "      <th>838</th>\n",
              "      <td>ILMU KEOLAHRAGAAN</td>\n",
              "      <td>362</td>\n",
              "    </tr>\n",
              "    <tr>\n",
              "      <th>300</th>\n",
              "      <td>TEKNIK KIMIA</td>\n",
              "      <td>171</td>\n",
              "    </tr>\n",
              "    <tr>\n",
              "      <th>3038</th>\n",
              "      <td>ARKEOLOGI</td>\n",
              "      <td>751</td>\n",
              "    </tr>\n",
              "    <tr>\n",
              "      <th>1715</th>\n",
              "      <td>PENDIDIKAN EKONOMI</td>\n",
              "      <td>111</td>\n",
              "    </tr>\n",
              "  </tbody>\n",
              "</table>\n",
              "<p>2533 rows × 2 columns</p>\n",
              "</div>"
            ],
            "text/plain": [
              "                     major_name  id_university\n",
              "2413             SASTRA PRANCIS            361\n",
              "2290   ILMU ADMINISTRASI NEGARA            353\n",
              "257         TEKNIK PERTAMBANGAN            151\n",
              "2362     PENDIDIKAN TATA BUSANA            356\n",
              "2494  ILMU KESEJAHTERAAN SOSIAL            371\n",
              "...                         ...            ...\n",
              "1334           PEND. MATEMATIKA            632\n",
              "838           ILMU KEOLAHRAGAAN            362\n",
              "300                TEKNIK KIMIA            171\n",
              "3038                  ARKEOLOGI            751\n",
              "1715         PENDIDIKAN EKONOMI            111\n",
              "\n",
              "[2533 rows x 2 columns]"
            ]
          },
          "metadata": {
            "tags": []
          },
          "execution_count": 20
        }
      ]
    },
    {
      "cell_type": "code",
      "metadata": {
        "colab": {
          "base_uri": "https://localhost:8080/",
          "height": 419
        },
        "id": "WUpvre4QfSPQ",
        "outputId": "a5367cc7-48e3-4e84-934a-52ee92ad14c7"
      },
      "source": [
        "x_test"
      ],
      "execution_count": 21,
      "outputs": [
        {
          "output_type": "execute_result",
          "data": {
            "text/html": [
              "<div>\n",
              "<style scoped>\n",
              "    .dataframe tbody tr th:only-of-type {\n",
              "        vertical-align: middle;\n",
              "    }\n",
              "\n",
              "    .dataframe tbody tr th {\n",
              "        vertical-align: top;\n",
              "    }\n",
              "\n",
              "    .dataframe thead th {\n",
              "        text-align: right;\n",
              "    }\n",
              "</style>\n",
              "<table border=\"1\" class=\"dataframe\">\n",
              "  <thead>\n",
              "    <tr style=\"text-align: right;\">\n",
              "      <th></th>\n",
              "      <th>major_name</th>\n",
              "      <th>id_university</th>\n",
              "    </tr>\n",
              "  </thead>\n",
              "  <tbody>\n",
              "    <tr>\n",
              "      <th>1839</th>\n",
              "      <td>ILMU KOMUNIKASI</td>\n",
              "      <td>131</td>\n",
              "    </tr>\n",
              "    <tr>\n",
              "      <th>705</th>\n",
              "      <td>TEKNIK ELEKTRO</td>\n",
              "      <td>353</td>\n",
              "    </tr>\n",
              "    <tr>\n",
              "      <th>961</th>\n",
              "      <td>PENDIDIKAN TEKNIK OTOMOTIF</td>\n",
              "      <td>373</td>\n",
              "    </tr>\n",
              "    <tr>\n",
              "      <th>174</th>\n",
              "      <td>TEKNIK ELEKTRO</td>\n",
              "      <td>132</td>\n",
              "    </tr>\n",
              "    <tr>\n",
              "      <th>1775</th>\n",
              "      <td>ILMU ADMINISTRASI NEGARA</td>\n",
              "      <td>116</td>\n",
              "    </tr>\n",
              "    <tr>\n",
              "      <th>...</th>\n",
              "      <td>...</td>\n",
              "      <td>...</td>\n",
              "    </tr>\n",
              "    <tr>\n",
              "      <th>2938</th>\n",
              "      <td>PENDIDIKAN BAHASA ARAB</td>\n",
              "      <td>712</td>\n",
              "    </tr>\n",
              "    <tr>\n",
              "      <th>2535</th>\n",
              "      <td>PENDIDIKAN BHS &amp; SASTRA JEPANG</td>\n",
              "      <td>372</td>\n",
              "    </tr>\n",
              "    <tr>\n",
              "      <th>101</th>\n",
              "      <td>FISIKA</td>\n",
              "      <td>121</td>\n",
              "    </tr>\n",
              "    <tr>\n",
              "      <th>3006</th>\n",
              "      <td>EKONOMI PEMBANGUNAN</td>\n",
              "      <td>731</td>\n",
              "    </tr>\n",
              "    <tr>\n",
              "      <th>1925</th>\n",
              "      <td>PERPUSTAKAAN DAN ILMU INFORMASI</td>\n",
              "      <td>142</td>\n",
              "    </tr>\n",
              "  </tbody>\n",
              "</table>\n",
              "<p>634 rows × 2 columns</p>\n",
              "</div>"
            ],
            "text/plain": [
              "                           major_name  id_university\n",
              "1839                  ILMU KOMUNIKASI            131\n",
              "705                    TEKNIK ELEKTRO            353\n",
              "961       PENDIDIKAN TEKNIK OTOMOTIF             373\n",
              "174                    TEKNIK ELEKTRO            132\n",
              "1775         ILMU ADMINISTRASI NEGARA            116\n",
              "...                               ...            ...\n",
              "2938           PENDIDIKAN BAHASA ARAB            712\n",
              "2535   PENDIDIKAN BHS & SASTRA JEPANG            372\n",
              "101                            FISIKA            121\n",
              "3006              EKONOMI PEMBANGUNAN            731\n",
              "1925  PERPUSTAKAAN DAN ILMU INFORMASI            142\n",
              "\n",
              "[634 rows x 2 columns]"
            ]
          },
          "metadata": {
            "tags": []
          },
          "execution_count": 21
        }
      ]
    },
    {
      "cell_type": "code",
      "metadata": {
        "colab": {
          "base_uri": "https://localhost:8080/"
        },
        "id": "4gvReSLSfWM2",
        "outputId": "7e471580-16d7-4524-ac4f-f84ed1d8881b"
      },
      "source": [
        "y_train"
      ],
      "execution_count": 22,
      "outputs": [
        {
          "output_type": "execute_result",
          "data": {
            "text/plain": [
              "2413    14\n",
              "2290    60\n",
              "257     36\n",
              "2362    32\n",
              "2494    75\n",
              "        ..\n",
              "1334    50\n",
              "838     16\n",
              "300     70\n",
              "3038    48\n",
              "1715    36\n",
              "Name: capacity, Length: 2533, dtype: int64"
            ]
          },
          "metadata": {
            "tags": []
          },
          "execution_count": 22
        }
      ]
    },
    {
      "cell_type": "code",
      "metadata": {
        "colab": {
          "base_uri": "https://localhost:8080/"
        },
        "id": "TyF8KXQJfaVe",
        "outputId": "9c63b8af-1d95-4632-8b8d-8c6a884ea3f7"
      },
      "source": [
        "y_test"
      ],
      "execution_count": 23,
      "outputs": [
        {
          "output_type": "execute_result",
          "data": {
            "text/plain": [
              "1839     64\n",
              "705      40\n",
              "961      50\n",
              "174      20\n",
              "1775     48\n",
              "       ... \n",
              "2938     32\n",
              "2535     28\n",
              "101      44\n",
              "3006    100\n",
              "1925     32\n",
              "Name: capacity, Length: 634, dtype: int64"
            ]
          },
          "metadata": {
            "tags": []
          },
          "execution_count": 23
        }
      ]
    }
  ]
}